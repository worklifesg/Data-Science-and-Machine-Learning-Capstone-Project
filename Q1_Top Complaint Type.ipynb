{
 "cells": [
  {
   "cell_type": "code",
   "execution_count": 1,
   "metadata": {},
   "outputs": [
    {
     "data": {
      "text/html": [
       "<div>\n",
       "<style scoped>\n",
       "    .dataframe tbody tr th:only-of-type {\n",
       "        vertical-align: middle;\n",
       "    }\n",
       "\n",
       "    .dataframe tbody tr th {\n",
       "        vertical-align: top;\n",
       "    }\n",
       "\n",
       "    .dataframe thead th {\n",
       "        text-align: right;\n",
       "    }\n",
       "</style>\n",
       "<table border=\"1\" class=\"dataframe\">\n",
       "  <thead>\n",
       "    <tr style=\"text-align: right;\">\n",
       "      <th></th>\n",
       "      <th>Unnamed: 0</th>\n",
       "      <th>Unique Key</th>\n",
       "      <th>Created Date</th>\n",
       "      <th>Closed Date</th>\n",
       "      <th>Complaint Type</th>\n",
       "      <th>Location Type</th>\n",
       "      <th>Incident Zip</th>\n",
       "      <th>Incident Address</th>\n",
       "      <th>Street Name</th>\n",
       "      <th>Address Type</th>\n",
       "      <th>City</th>\n",
       "      <th>Status</th>\n",
       "      <th>Resolution Description</th>\n",
       "      <th>Borough</th>\n",
       "      <th>Latitude</th>\n",
       "      <th>Longitude</th>\n",
       "    </tr>\n",
       "  </thead>\n",
       "  <tbody>\n",
       "    <tr>\n",
       "      <th>0</th>\n",
       "      <td>0</td>\n",
       "      <td>45531130</td>\n",
       "      <td>02/02/2020 06:09:17 AM</td>\n",
       "      <td>NaN</td>\n",
       "      <td>HEAT/HOT WATER</td>\n",
       "      <td>RESIDENTIAL BUILDING</td>\n",
       "      <td>10019.0</td>\n",
       "      <td>426 WEST   52 STREET</td>\n",
       "      <td>WEST   52 STREET</td>\n",
       "      <td>ADDRESS</td>\n",
       "      <td>NEW YORK</td>\n",
       "      <td>Open</td>\n",
       "      <td>The following complaint conditions are still o...</td>\n",
       "      <td>MANHATTAN</td>\n",
       "      <td>40.765132</td>\n",
       "      <td>-73.988993</td>\n",
       "    </tr>\n",
       "    <tr>\n",
       "      <th>1</th>\n",
       "      <td>1</td>\n",
       "      <td>45529784</td>\n",
       "      <td>02/02/2020 02:15:24 PM</td>\n",
       "      <td>NaN</td>\n",
       "      <td>UNSANITARY CONDITION</td>\n",
       "      <td>RESIDENTIAL BUILDING</td>\n",
       "      <td>11204.0</td>\n",
       "      <td>1751 67 STREET</td>\n",
       "      <td>67 STREET</td>\n",
       "      <td>ADDRESS</td>\n",
       "      <td>BROOKLYN</td>\n",
       "      <td>Open</td>\n",
       "      <td>The following complaint conditions are still o...</td>\n",
       "      <td>BROOKLYN</td>\n",
       "      <td>40.618484</td>\n",
       "      <td>-73.992673</td>\n",
       "    </tr>\n",
       "    <tr>\n",
       "      <th>2</th>\n",
       "      <td>2</td>\n",
       "      <td>45527528</td>\n",
       "      <td>02/02/2020 02:27:41 AM</td>\n",
       "      <td>NaN</td>\n",
       "      <td>HEAT/HOT WATER</td>\n",
       "      <td>RESIDENTIAL BUILDING</td>\n",
       "      <td>11372.0</td>\n",
       "      <td>87-15 37 AVENUE</td>\n",
       "      <td>37 AVENUE</td>\n",
       "      <td>ADDRESS</td>\n",
       "      <td>Jackson Heights</td>\n",
       "      <td>Open</td>\n",
       "      <td>The following complaint conditions are still o...</td>\n",
       "      <td>QUEENS</td>\n",
       "      <td>40.750269</td>\n",
       "      <td>-73.879432</td>\n",
       "    </tr>\n",
       "    <tr>\n",
       "      <th>3</th>\n",
       "      <td>3</td>\n",
       "      <td>45530329</td>\n",
       "      <td>02/02/2020 12:13:18 PM</td>\n",
       "      <td>NaN</td>\n",
       "      <td>HEAT/HOT WATER</td>\n",
       "      <td>RESIDENTIAL BUILDING</td>\n",
       "      <td>10458.0</td>\n",
       "      <td>2405 SOUTHERN BOULEVARD</td>\n",
       "      <td>SOUTHERN BOULEVARD</td>\n",
       "      <td>ADDRESS</td>\n",
       "      <td>BRONX</td>\n",
       "      <td>Open</td>\n",
       "      <td>The following complaint conditions are still o...</td>\n",
       "      <td>BRONX</td>\n",
       "      <td>40.853773</td>\n",
       "      <td>-73.881558</td>\n",
       "    </tr>\n",
       "    <tr>\n",
       "      <th>4</th>\n",
       "      <td>4</td>\n",
       "      <td>45528814</td>\n",
       "      <td>02/02/2020 01:59:44 PM</td>\n",
       "      <td>NaN</td>\n",
       "      <td>APPLIANCE</td>\n",
       "      <td>RESIDENTIAL BUILDING</td>\n",
       "      <td>11209.0</td>\n",
       "      <td>223 78 STREET</td>\n",
       "      <td>78 STREET</td>\n",
       "      <td>ADDRESS</td>\n",
       "      <td>BROOKLYN</td>\n",
       "      <td>Open</td>\n",
       "      <td>The following complaint conditions are still o...</td>\n",
       "      <td>BROOKLYN</td>\n",
       "      <td>40.629745</td>\n",
       "      <td>-74.030533</td>\n",
       "    </tr>\n",
       "  </tbody>\n",
       "</table>\n",
       "</div>"
      ],
      "text/plain": [
       "   Unnamed: 0  Unique Key            Created Date Closed Date  \\\n",
       "0           0    45531130  02/02/2020 06:09:17 AM         NaN   \n",
       "1           1    45529784  02/02/2020 02:15:24 PM         NaN   \n",
       "2           2    45527528  02/02/2020 02:27:41 AM         NaN   \n",
       "3           3    45530329  02/02/2020 12:13:18 PM         NaN   \n",
       "4           4    45528814  02/02/2020 01:59:44 PM         NaN   \n",
       "\n",
       "         Complaint Type         Location Type  Incident Zip  \\\n",
       "0        HEAT/HOT WATER  RESIDENTIAL BUILDING       10019.0   \n",
       "1  UNSANITARY CONDITION  RESIDENTIAL BUILDING       11204.0   \n",
       "2        HEAT/HOT WATER  RESIDENTIAL BUILDING       11372.0   \n",
       "3        HEAT/HOT WATER  RESIDENTIAL BUILDING       10458.0   \n",
       "4             APPLIANCE  RESIDENTIAL BUILDING       11209.0   \n",
       "\n",
       "          Incident Address         Street Name Address Type             City  \\\n",
       "0     426 WEST   52 STREET    WEST   52 STREET      ADDRESS         NEW YORK   \n",
       "1           1751 67 STREET           67 STREET      ADDRESS         BROOKLYN   \n",
       "2          87-15 37 AVENUE           37 AVENUE      ADDRESS  Jackson Heights   \n",
       "3  2405 SOUTHERN BOULEVARD  SOUTHERN BOULEVARD      ADDRESS            BRONX   \n",
       "4            223 78 STREET           78 STREET      ADDRESS         BROOKLYN   \n",
       "\n",
       "  Status                             Resolution Description    Borough  \\\n",
       "0   Open  The following complaint conditions are still o...  MANHATTAN   \n",
       "1   Open  The following complaint conditions are still o...   BROOKLYN   \n",
       "2   Open  The following complaint conditions are still o...     QUEENS   \n",
       "3   Open  The following complaint conditions are still o...      BRONX   \n",
       "4   Open  The following complaint conditions are still o...   BROOKLYN   \n",
       "\n",
       "    Latitude  Longitude  \n",
       "0  40.765132 -73.988993  \n",
       "1  40.618484 -73.992673  \n",
       "2  40.750269 -73.879432  \n",
       "3  40.853773 -73.881558  \n",
       "4  40.629745 -74.030533  "
      ]
     },
     "execution_count": 1,
     "metadata": {},
     "output_type": "execute_result"
    }
   ],
   "source": [
    "#Importing the data file on 311 NYC system Department of Housing Preservation and Development \n",
    "import pandas as pd\n",
    "file=\"D:\\Python\\edx\\Capstone project\\data_311_correct.csv\"\n",
    "df=pd.read_csv(file)\n",
    "df.head()"
   ]
  },
  {
   "cell_type": "code",
   "execution_count": 2,
   "metadata": {},
   "outputs": [
    {
     "name": "stdout",
     "output_type": "stream",
     "text": [
      "<class 'pandas.core.frame.DataFrame'>\n",
      "RangeIndex: 6019843 entries, 0 to 6019842\n",
      "Data columns (total 16 columns):\n",
      " #   Column                  Dtype  \n",
      "---  ------                  -----  \n",
      " 0   Unnamed: 0              int64  \n",
      " 1   Unique Key              int64  \n",
      " 2   Created Date            object \n",
      " 3   Closed Date             object \n",
      " 4   Complaint Type          object \n",
      " 5   Location Type           object \n",
      " 6   Incident Zip            float64\n",
      " 7   Incident Address        object \n",
      " 8   Street Name             object \n",
      " 9   Address Type            object \n",
      " 10  City                    object \n",
      " 11  Status                  object \n",
      " 12  Resolution Description  object \n",
      " 13  Borough                 object \n",
      " 14  Latitude                float64\n",
      " 15  Longitude               float64\n",
      "dtypes: float64(3), int64(2), object(11)\n",
      "memory usage: 734.8+ MB\n"
     ]
    }
   ],
   "source": [
    "#Looking at the dataset information\n",
    "#Objective: Which type of complaint should the Department of Housing \n",
    "#Preservation and Development of New York City focus on first?\n",
    "#Q1. What is the total number of complaints that exist in the dataset?\n",
    "df.info()"
   ]
  },
  {
   "cell_type": "code",
   "execution_count": 3,
   "metadata": {},
   "outputs": [
    {
     "data": {
      "text/plain": [
       "array(['HEAT/HOT WATER', 'UNSANITARY CONDITION', 'APPLIANCE', 'GENERAL',\n",
       "       'ELECTRIC', 'PLUMBING', 'PAINT/PLASTER', 'WATER LEAK', 'SAFETY',\n",
       "       'DOOR/WINDOW', 'OUTSIDE BUILDING', 'ELEVATOR', 'FLOORING/STAIRS',\n",
       "       'Unsanitary Condition', 'HPD Literature Request', 'HEATING',\n",
       "       'PAINT - PLASTER', 'Safety', 'Electric', 'General', 'Appliance',\n",
       "       'GENERAL CONSTRUCTION', 'NONCONST', 'CONSTRUCTION', 'AGENCY',\n",
       "       'STRUCTURAL', 'VACANT APARTMENT', 'Outside Building', 'Plumbing',\n",
       "       'Mold'], dtype=object)"
      ]
     },
     "execution_count": 3,
     "metadata": {},
     "output_type": "execute_result"
    }
   ],
   "source": [
    "# This exercise is focused on complaints, so let's see few details about 'Complaint Type'\n",
    "df['Complaint Type'].unique()"
   ]
  },
  {
   "cell_type": "code",
   "execution_count": 4,
   "metadata": {},
   "outputs": [
    {
     "data": {
      "text/plain": [
       "0"
      ]
     },
     "execution_count": 4,
     "metadata": {},
     "output_type": "execute_result"
    }
   ],
   "source": [
    "# Lets see if there is any NaN or null value in this column\n",
    "df['Complaint Type'].isnull().sum()"
   ]
  },
  {
   "cell_type": "code",
   "execution_count": 5,
   "metadata": {},
   "outputs": [
    {
     "data": {
      "text/plain": [
       "HEAT/HOT WATER            1261574\n",
       "HEATING                    887850\n",
       "PLUMBING                   711130\n",
       "GENERAL CONSTRUCTION       500863\n",
       "UNSANITARY CONDITION       451643\n",
       "PAINT - PLASTER            361257\n",
       "PAINT/PLASTER              346438\n",
       "ELECTRIC                   307310\n",
       "NONCONST                   260890\n",
       "DOOR/WINDOW                205278\n",
       "WATER LEAK                 193631\n",
       "GENERAL                    151308\n",
       "FLOORING/STAIRS            137402\n",
       "APPLIANCE                  112831\n",
       "HPD Literature Request      52824\n",
       "SAFETY                      51529\n",
       "OUTSIDE BUILDING             7142\n",
       "ELEVATOR                     6725\n",
       "Unsanitary Condition         5499\n",
       "CONSTRUCTION                 5078\n",
       "General                      1163\n",
       "Safety                        424\n",
       "STRUCTURAL                     16\n",
       "Plumbing                       11\n",
       "AGENCY                          9\n",
       "Outside Building                6\n",
       "VACANT APARTMENT                6\n",
       "Appliance                       4\n",
       "Electric                        1\n",
       "Mold                            1\n",
       "Name: Complaint Type, dtype: int64"
      ]
     },
     "execution_count": 5,
     "metadata": {},
     "output_type": "execute_result"
    }
   ],
   "source": [
    "# Count number \n",
    "df_comp=df['Complaint Type'].value_counts()\n",
    "df_comp # frequency of each complaint type"
   ]
  },
  {
   "cell_type": "code",
   "execution_count": 6,
   "metadata": {},
   "outputs": [
    {
     "data": {
      "text/plain": [
       "30"
      ]
     },
     "execution_count": 6,
     "metadata": {},
     "output_type": "execute_result"
    }
   ],
   "source": [
    "# Q2. How many differnt Complaint Types can you find in the dataset, including duplicates entries of the same type?\n",
    "len(df_comp)"
   ]
  },
  {
   "cell_type": "code",
   "execution_count": 7,
   "metadata": {},
   "outputs": [
    {
     "data": {
      "text/plain": [
       "HEAT/HOT WATER            1261574\n",
       "HEATING                    887850\n",
       "PLUMBING                   711130\n",
       "GENERAL CONSTRUCTION       500863\n",
       "UNSANITARY CONDITION       451643\n",
       "PAINT - PLASTER            361257\n",
       "PAINT/PLASTER              346438\n",
       "ELECTRIC                   307310\n",
       "NONCONST                   260890\n",
       "DOOR/WINDOW                205278\n",
       "WATER LEAK                 193631\n",
       "GENERAL                    151308\n",
       "FLOORING/STAIRS            137402\n",
       "APPLIANCE                  112831\n",
       "HPD Literature Request      52824\n",
       "SAFETY                      51529\n",
       "OUTSIDE BUILDING             7142\n",
       "ELEVATOR                     6725\n",
       "Unsanitary Condition         5499\n",
       "CONSTRUCTION                 5078\n",
       "General                      1163\n",
       "Safety                        424\n",
       "STRUCTURAL                     16\n",
       "Plumbing                       11\n",
       "AGENCY                          9\n",
       "Outside Building                6\n",
       "VACANT APARTMENT                6\n",
       "Appliance                       4\n",
       "Electric                        1\n",
       "Mold                            1\n",
       "Name: Complaint Type, dtype: int64"
      ]
     },
     "execution_count": 7,
     "metadata": {},
     "output_type": "execute_result"
    }
   ],
   "source": [
    "#Q3. How many Elevator complaints can you find in the dataset? \n",
    "df_comp"
   ]
  },
  {
   "cell_type": "code",
   "execution_count": 8,
   "metadata": {},
   "outputs": [],
   "source": [
    "# Combining results of heating and heat/hot water together and Electric and ELECTRIC to have total sum of these category\n",
    "# Before 2014, this dataset is using HEATING label but after 2014, the label changed as \"HEATING/HOT WATER\". \n",
    "#So, we need to change \"HEATING\" labels as \"HEATING/HOT WATER\" and analyze them together.\n",
    "import numpy as np\n",
    "df['Complaint Type'] = np.where(df['Complaint Type']=='HEATING','HEAT/HOT WATER',df['Complaint Type'])\n",
    "df['Complaint Type'] = np.where(df['Complaint Type']=='ELECTRIC','Electric',df['Complaint Type'])"
   ]
  },
  {
   "cell_type": "code",
   "execution_count": 9,
   "metadata": {},
   "outputs": [
    {
     "data": {
      "text/plain": [
       "HEAT/HOT WATER            2149424\n",
       "PLUMBING                   711130\n",
       "GENERAL CONSTRUCTION       500863\n",
       "UNSANITARY CONDITION       451643\n",
       "PAINT - PLASTER            361257\n",
       "PAINT/PLASTER              346438\n",
       "Electric                   307311\n",
       "NONCONST                   260890\n",
       "DOOR/WINDOW                205278\n",
       "WATER LEAK                 193631\n",
       "GENERAL                    151308\n",
       "FLOORING/STAIRS            137402\n",
       "APPLIANCE                  112831\n",
       "HPD Literature Request      52824\n",
       "SAFETY                      51529\n",
       "OUTSIDE BUILDING             7142\n",
       "ELEVATOR                     6725\n",
       "Unsanitary Condition         5499\n",
       "CONSTRUCTION                 5078\n",
       "General                      1163\n",
       "Safety                        424\n",
       "STRUCTURAL                     16\n",
       "Plumbing                       11\n",
       "AGENCY                          9\n",
       "Outside Building                6\n",
       "VACANT APARTMENT                6\n",
       "Appliance                       4\n",
       "Mold                            1\n",
       "Name: Complaint Type, dtype: int64"
      ]
     },
     "execution_count": 9,
     "metadata": {},
     "output_type": "execute_result"
    }
   ],
   "source": [
    "df_comp_mod=df['Complaint Type'].value_counts()\n",
    "df_comp_mod # frequency of each complaint type\n",
    "#Q4. How many Electric complaints can you find in the dataset?\n",
    "#Q5. Using 800,000 as a threshold, what complaint type(s) do you\n",
    "#recommend the Department of Housing Preservation and Development of New York City address first?"
   ]
  },
  {
   "cell_type": "code",
   "execution_count": 10,
   "metadata": {},
   "outputs": [
    {
     "data": {
      "image/png": "[encoded data removed]",
      "text/plain": [
       "<Figure size 1008x1008 with 1 Axes>"
      ]
     },
     "metadata": {
      "needs_background": "light"
     },
     "output_type": "display_data"
    }
   ],
   "source": [
    "# Visualization for  above data\n",
    "import matplotlib.pyplot as plt\n",
    "import seaborn as sns\n",
    "df_comp_mod.sort_values(ascending = True, inplace =True)\n",
    "df_comp_mod.plot(kind='barh',figsize = (14,14), color=sns.color_palette('BrBG', len(df_comp_mod)))\n",
    "plt.xlabel('Complaint Types')\n",
    "plt.ylabel('Complaints 2010-Present')\n",
    "plt.title('Top Complaint Type Graph')\n",
    "plt.show()"
   ]
  },
  {
   "cell_type": "code",
   "execution_count": null,
   "metadata": {},
   "outputs": [],
   "source": []
  }
 ],
 "metadata": {
  "kernelspec": {
   "display_name": "Python 3",
   "language": "python",
   "name": "python3"
  },
  "language_info": {
   "codemirror_mode": {
    "name": "ipython",
    "version": 3
   },
   "file_extension": ".py",
   "mimetype": "text/x-python",
   "name": "python",
   "nbconvert_exporter": "python",
   "pygments_lexer": "ipython3",
   "version": "3.7.6"
  }
 },
 "nbformat": 4,
 "nbformat_minor": 4
}
